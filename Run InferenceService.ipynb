{
 "cells": [
  {
   "cell_type": "markdown",
   "metadata": {},
   "source": [
    "환경변수 및 버전정보 입력"
   ]
  },
  {
   "cell_type": "code",
   "execution_count": null,
   "metadata": {},
   "outputs": [],
   "source": [
    "USER_ID = 'hyobeom-seo' # input knox id\n",
    "VER = str(1)            # modify version"
   ]
  },
  {
   "cell_type": "markdown",
   "metadata": {},
   "source": [
    "Covid_model.py를 실행시켜서 모델 생성"
   ]
  },
  {
   "cell_type": "code",
   "execution_count": null,
   "metadata": {},
   "outputs": [],
   "source": [
    "!python Covid_model.py -m MobileNetV3Large -v $VER"
   ]
  },
  {
   "cell_type": "markdown",
   "metadata": {},
   "source": [
    "yaml파일 내용 수정"
   ]
  },
  {
   "cell_type": "code",
   "execution_count": null,
   "metadata": {},
   "outputs": [],
   "source": [
    "import yaml\n",
    "\n",
    "with open('covid.yml') as f:\n",
    "    data = yaml.load(f, Loader=yaml.FullLoader)\n",
    "    \n",
    "#Service Name변경\n",
    "data['metadata']['name'] = USER_ID + \"-covid-test\"\n",
    "#Covid_model.py 생성된 모델 PVC 위치 지정\n",
    "data['spec']['predictor']['tensorflow']['storageUri'] = \"pvc://\" + USER_ID + \"-volume/Covid19-Ops/covid-\" + VER\n",
    "#yaml파일 rewrite\n",
    "with open('covid.yml', 'w') as fw:\n",
    "    yaml.dump(data, fw)"
   ]
  },
  {
   "cell_type": "markdown",
   "metadata": {},
   "source": [
    "Kubenates 재배포"
   ]
  },
  {
   "cell_type": "code",
   "execution_count": null,
   "metadata": {},
   "outputs": [],
   "source": [
    "!kubectl apply -f covid.yml"
   ]
  },
  {
   "cell_type": "markdown",
   "metadata": {},
   "source": [
    "infereceservice 상태 확인"
   ]
  },
  {
   "cell_type": "code",
   "execution_count": null,
   "metadata": {},
   "outputs": [],
   "source": [
    "!kubectl get inferenceservice"
   ]
  },
  {
   "cell_type": "code",
   "execution_count": null,
   "metadata": {},
   "outputs": [],
   "source": []
  }
 ],
 "metadata": {
  "kernelspec": {
   "display_name": "Python 3",
   "language": "python",
   "name": "python3"
  },
  "language_info": {
   "codemirror_mode": {
    "name": "ipython",
    "version": 3
   },
   "file_extension": ".py",
   "mimetype": "text/x-python",
   "name": "python",
   "nbconvert_exporter": "python",
   "pygments_lexer": "ipython3",
   "version": "3.6.9"
  }
 },
 "nbformat": 4,
 "nbformat_minor": 4
}
