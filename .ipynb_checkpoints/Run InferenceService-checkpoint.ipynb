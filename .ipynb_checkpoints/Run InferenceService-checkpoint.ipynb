{
 "cells": [
  {
   "cell_type": "markdown",
   "metadata": {},
   "source": [
    "환경변수 및 버전정보 입력"
   ]
  },
  {
   "cell_type": "code",
   "execution_count": 1,
   "metadata": {},
   "outputs": [],
   "source": [
    "USER_ID = 'hyobeom-seo' # input knox id\n",
    "VER = str(1)            # modify version"
   ]
  },
  {
   "cell_type": "markdown",
   "metadata": {},
   "source": [
    "Covid_model.py를 실행시켜서 모델 생성"
   ]
  },
  {
   "cell_type": "code",
   "execution_count": 2,
   "metadata": {},
   "outputs": [
    {
     "name": "stdout",
     "output_type": "stream",
     "text": [
      "2023-03-15 13:01:10.443022: W tensorflow/stream_executor/platform/default/dso_loader.cc:64] Could not load dynamic library 'libcudart.so.11.0'; dlerror: libcudart.so.11.0: cannot open shared object file: No such file or directory; LD_LIBRARY_PATH: /usr/local/lib/python3.6/dist-packages/cv2/../../lib64:/usr/local/cuda/extras/CUPTI/lib64:/usr/local/cuda/lib64:/usr/local/nvidia/lib:/usr/local/nvidia/lib64\n",
      "2023-03-15 13:01:10.443054: I tensorflow/stream_executor/cuda/cudart_stub.cc:29] Ignore above cudart dlerror if you do not have a GPU set up on your machine.\n",
      "2023-03-15 13:01:35.856913: E tensorflow/stream_executor/cuda/cuda_driver.cc:271] failed call to cuInit: UNKNOWN ERROR (-1)\n",
      "2023-03-15 13:01:35.856976: I tensorflow/stream_executor/cuda/cuda_diagnostics.cc:156] kernel driver does not appear to be running on this host (hyobeom-seo-0): /proc/driver/nvidia/version does not exist\n",
      "2023-03-15 13:01:35.857216: I tensorflow/core/platform/cpu_feature_guard.cc:142] This TensorFlow binary is optimized with oneAPI Deep Neural Network Library (oneDNN) to use the following CPU instructions in performance-critical operations:  AVX2 AVX512F FMA\n",
      "To enable them in other operations, rebuild TensorFlow with the appropriate compiler flags.\n",
      "WARNING:tensorflow:`input_shape` is undefined or non-square, or `rows` is not 224. Weights for input shape (224, 224) will be loaded as the default.\n",
      "Model: \"sequential\"\n",
      "_________________________________________________________________\n",
      "Layer (type)                 Output Shape              Param #   \n",
      "=================================================================\n",
      "MobilenetV3large (Functional (None, 1, 1, 1280)        4226432   \n",
      "_________________________________________________________________\n",
      "batch_normalization (BatchNo (None, 1, 1, 1280)        5120      \n",
      "_________________________________________________________________\n",
      "flatten (Flatten)            (None, 1280)              0         \n",
      "_________________________________________________________________\n",
      "dense (Dense)                (None, 256)               327936    \n",
      "_________________________________________________________________\n",
      "dense_1 (Dense)              (None, 3)                 771       \n",
      "=================================================================\n",
      "Total params: 4,560,259\n",
      "Trainable params: 331,267\n",
      "Non-trainable params: 4,228,992\n",
      "_________________________________________________________________\n",
      "2023-03-15 13:01:38.050815: I tensorflow/compiler/mlir/mlir_graph_optimization_pass.cc:185] None of the MLIR Optimization Passes are enabled (registered 2)\n",
      "Epoch 1/10\n",
      "20/20 [==============================] - 11s 453ms/step - loss: 1.3041 - accuracy: 0.2125 - val_loss: 1.0960 - val_accuracy: 0.3500\n",
      "Epoch 2/10\n",
      "20/20 [==============================] - 8s 395ms/step - loss: 1.0769 - accuracy: 0.3438 - val_loss: 1.0864 - val_accuracy: 0.4250\n",
      "Epoch 3/10\n",
      "20/20 [==============================] - 8s 400ms/step - loss: 0.9356 - accuracy: 0.5312 - val_loss: 1.0804 - val_accuracy: 0.3500\n",
      "Epoch 4/10\n",
      "20/20 [==============================] - 8s 395ms/step - loss: 0.8348 - accuracy: 0.6625 - val_loss: 1.0754 - val_accuracy: 0.3500\n",
      "Epoch 5/10\n",
      "20/20 [==============================] - 8s 400ms/step - loss: 0.7765 - accuracy: 0.7125 - val_loss: 1.0699 - val_accuracy: 0.3500\n",
      "Epoch 6/10\n",
      "20/20 [==============================] - 9s 466ms/step - loss: 0.7751 - accuracy: 0.6938 - val_loss: 1.0640 - val_accuracy: 0.3500\n",
      "Epoch 7/10\n",
      "20/20 [==============================] - 8s 389ms/step - loss: 0.7676 - accuracy: 0.7063 - val_loss: 1.0579 - val_accuracy: 0.3500\n",
      "Epoch 8/10\n",
      "20/20 [==============================] - 8s 390ms/step - loss: 0.6808 - accuracy: 0.7563 - val_loss: 1.0501 - val_accuracy: 0.3500\n",
      "Epoch 9/10\n",
      "20/20 [==============================] - 8s 395ms/step - loss: 0.6684 - accuracy: 0.7188 - val_loss: 1.0415 - val_accuracy: 0.3750\n",
      "Epoch 10/10\n",
      "20/20 [==============================] - 8s 400ms/step - loss: 0.6625 - accuracy: 0.7437 - val_loss: 1.0319 - val_accuracy: 0.4500\n",
      "2023-03-15 13:03:10.037208: W tensorflow/python/util/util.cc:348] Sets are not currently considered sequences, but this may change in the future, so consider avoiding using them.\n",
      "WARNING:absl:Function `_wrapped_model` contains input name(s) MobilenetV3large_input with unsupported characters which will be renamed to mobilenetv3large_input in the SavedModel.\n",
      "/home/jovyan/.local/lib/python3.6/site-packages/keras/utils/generic_utils.py:497: CustomMaskWarning: Custom mask layers require a config and must override get_config. When loading, the custom mask layer must be passed to the custom_objects argument.\n",
      "  category=CustomMaskWarning)\n"
     ]
    }
   ],
   "source": [
    "!python Covid_model.py -m MobileNetV3Large -v $VER"
   ]
  },
  {
   "cell_type": "markdown",
   "metadata": {},
   "source": [
    "yaml파일 내용 수정"
   ]
  },
  {
   "cell_type": "code",
   "execution_count": 16,
   "metadata": {},
   "outputs": [],
   "source": [
    "import yaml\n",
    "\n",
    "with open('covid.yml') as f:\n",
    "    data = yaml.load(f, Loader=yaml.FullLoader)\n",
    "    \n",
    "#Service Name변경\n",
    "data['metadata']['name'] = USER_ID + \"-covid-test\"\n",
    "#Covid_model.py 생성된 모델 PVC 위치 지정\n",
    "data['spec']['predictor']['tensorflow']['storageUri'] = \"pvc://\" + USER_ID + \"-volume/Covid19-Ops/covid-\" + VER\n",
    "#yaml파일 rewrite\n",
    "with open('covid.yml', 'w') as fw:\n",
    "    yaml.dump(data, fw)"
   ]
  },
  {
   "cell_type": "markdown",
   "metadata": {},
   "source": [
    "Kubenates 재배포"
   ]
  },
  {
   "cell_type": "code",
   "execution_count": 17,
   "metadata": {},
   "outputs": [
    {
     "name": "stdout",
     "output_type": "stream",
     "text": [
      "inferenceservice.serving.kserve.io/hyobeom-seo-covid-test configured\n"
     ]
    }
   ],
   "source": [
    "!kubectl apply -f covid.yml"
   ]
  },
  {
   "cell_type": "markdown",
   "metadata": {},
   "source": [
    "infereceservice 상태 확인"
   ]
  },
  {
   "cell_type": "code",
   "execution_count": 25,
   "metadata": {},
   "outputs": [
    {
     "name": "stdout",
     "output_type": "stream",
     "text": [
      "NAME                     URL                                                                  READY   PREV   LATEST   PREVROLLEDOUTREVISION   LATESTREADYREVISION                              AGE\n",
      "hyobeom-seo-covid-test   http://hyobeom-seo-covid-test.pjt-hyobeom-seo.sds.swa-kubeflow.com   True           100                              hyobeom-seo-covid-test-predictor-default-00005   3h36m\n"
     ]
    }
   ],
   "source": [
    "!kubectl get inferenceservice"
   ]
  },
  {
   "cell_type": "code",
   "execution_count": null,
   "metadata": {},
   "outputs": [],
   "source": []
  }
 ],
 "metadata": {
  "kernelspec": {
   "display_name": "Python 3",
   "language": "python",
   "name": "python3"
  },
  "language_info": {
   "codemirror_mode": {
    "name": "ipython",
    "version": 3
   },
   "file_extension": ".py",
   "mimetype": "text/x-python",
   "name": "python",
   "nbconvert_exporter": "python",
   "pygments_lexer": "ipython3",
   "version": "3.6.9"
  }
 },
 "nbformat": 4,
 "nbformat_minor": 4
}
